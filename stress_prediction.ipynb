{
 "cells": [
  {
   "cell_type": "code",
   "execution_count": 1,
   "id": "be4e1441",
   "metadata": {},
   "outputs": [],
   "source": [
    "import pandas as pd\n",
    "import numpy as np\n",
    "%matplotlib inline\n",
    "import matplotlib.pyplot as plt\n",
    "from os import listdir"
   ]
  },
  {
   "cell_type": "code",
   "execution_count": 2,
   "id": "3d627fe1",
   "metadata": {},
   "outputs": [
    {
     "name": "stdout",
     "output_type": "stream",
     "text": [
      "Till now all OK...\n"
     ]
    }
   ],
   "source": [
    "from tensorflow.keras.preprocessing import sequence\n",
    "import tensorflow as tf\n",
    "\n",
    "from tensorflow.keras.models import Sequential\n",
    "from tensorflow.keras.layers import Dense\n",
    "from tensorflow.keras.layers import LSTM\n",
    "from tensorflow.keras.layers import GRU\n",
    "from tensorflow.keras.layers import SimpleRNN\n",
    "\n",
    "from tensorflow.keras.optimizers import Adam\n",
    "from tensorflow.keras.models import load_model\n",
    "from tensorflow.keras.callbacks import ModelCheckpoint\n",
    "\n",
    "print(\"Till now all OK...\")"
   ]
  },
  {
   "cell_type": "code",
   "execution_count": 3,
   "id": "e7d8f0be",
   "metadata": {},
   "outputs": [
    {
     "name": "stdout",
     "output_type": "stream",
     "text": [
      "Total condition data: 23\n",
      "Number of control data:  32\n",
      "Total number of files:  55\n"
     ]
    }
   ],
   "source": [
    "#path = 'D:\\Research Related\\ICMIA 23 Paper\\depresjon\\condition\\condition_'\n",
    "path = 'E:\\depresjon\\condition\\condition_'\n",
    "sequences = list()\n",
    "\n",
    "i = 0\n",
    "while True:\n",
    "    i +=1\n",
    "    try:\n",
    "        file_path = path + str(i) + '.csv'\n",
    "        df = pd.read_csv(file_path, header=0, usecols = ['activity'])\n",
    "        values = df.values\n",
    "        sequences.append(values)\n",
    "    except FileNotFoundError:\n",
    "            break\n",
    "            \n",
    "ncf = len(sequences)\n",
    "print(\"Total condition data:\", ncf)\n",
    "\n",
    "#path = 'C:\\datasets\\depresjon\\control\\control_'\n",
    "path = 'E:\\depresjon\\control\\control_'\n",
    "i = 0\n",
    "while True:\n",
    "    i +=1\n",
    "    try:\n",
    "        file_path = path + str(i) + '.csv'\n",
    "        df = pd.read_csv(file_path, header=0, usecols = ['activity'])\n",
    "        values = df.values\n",
    "        sequences.append(values)\n",
    "    except FileNotFoundError:\n",
    "            break\n",
    "ncof = len(sequences) - ncf\n",
    "print(\"Number of control data: \", ncof)\n",
    "print(\"Total number of files: \",  len(sequences))"
   ]
  },
  {
   "cell_type": "code",
   "execution_count": 4,
   "id": "d020879c",
   "metadata": {},
   "outputs": [],
   "source": [
    "#targets = pd.read_csv('D:\\Research Related\\ICMIA 23 Paper\\depresjon\\scores.csv')\n",
    "targets = pd.read_csv('E:\\depresjon\\scores.csv')\n",
    "targets = targets.values[:,-1]"
   ]
  },
  {
   "cell_type": "code",
   "execution_count": 5,
   "id": "08ebfd49",
   "metadata": {},
   "outputs": [
    {
     "name": "stdout",
     "output_type": "stream",
     "text": [
      "[1 1 1 1 1 1 1 1 1 1 1 1 1 1 1 1 1 1 1 1 1 1 1 0 0 0 0 0 0 0 0 0 0 0 0 0 0\n",
      " 0 0 0 0 0 0 0 0 0 0 0 0 0 0 0 0 0 0]\n"
     ]
    }
   ],
   "source": [
    "#groups = pd.read_csv('C:\\datasets\\AAL\\groups\\MovementAAL_DatasetGroup.csv', header=0)\n",
    "groups = targets\n",
    "print(groups)"
   ]
  },
  {
   "cell_type": "code",
   "execution_count": 6,
   "id": "3136649b",
   "metadata": {},
   "outputs": [
    {
     "data": {
      "text/plain": [
       "count       55.000000\n",
       "mean     28576.472727\n",
       "std      10711.258367\n",
       "min      19299.000000\n",
       "25%      21662.000000\n",
       "50%      23244.000000\n",
       "75%      31479.000000\n",
       "max      65407.000000\n",
       "dtype: float64"
      ]
     },
     "execution_count": 6,
     "metadata": {},
     "output_type": "execute_result"
    }
   ],
   "source": [
    "len_sequences = []\n",
    "for one_seq in sequences:\n",
    "    len_sequences.append(len(one_seq))\n",
    "pd.Series(len_sequences).describe()"
   ]
  },
  {
   "cell_type": "code",
   "execution_count": 7,
   "id": "84832730",
   "metadata": {},
   "outputs": [],
   "source": [
    "#Padding the sequence with the values in last row to max length\n",
    "final_seq = sequences\n",
    "#truncate the sequence to length 20000\n",
    "\n",
    "from tensorflow.keras.preprocessing import sequence\n",
    "seq_len = 21000\n",
    "final_seq=sequence.pad_sequences(final_seq, \n",
    "                                 maxlen=seq_len, padding='post', \n",
    "                                 dtype='float', truncating='post')"
   ]
  },
  {
   "cell_type": "code",
   "execution_count": 8,
   "id": "06cfad54",
   "metadata": {},
   "outputs": [
    {
     "name": "stdout",
     "output_type": "stream",
     "text": [
      "Total train data:  21000\n",
      "Total test data:  21000\n",
      "Total validation data: 21000\n",
      "Total train data:  33\n",
      "Total test data:  11\n",
      "Total validation data: 11\n"
     ]
    }
   ],
   "source": [
    "from sklearn.model_selection import train_test_split\n",
    "\n",
    "train, test, train_target, test_target = train_test_split(\n",
    "    final_seq, targets, test_size=0.2, random_state=1)\n",
    "train, validation, train_target, validation_target = train_test_split(\n",
    "    train, train_target, test_size=0.25, random_state=1)\n",
    "\n",
    "print(\"Total train data: \",len(train[0]))\n",
    "print(\"Total test data: \",len(test[0]))\n",
    "print(\"Total validation data:\",len(validation[0]))\n",
    "\n",
    "print(\"Total train data: \",len(train_target))\n",
    "print(\"Total test data: \",len(test_target))\n",
    "print(\"Total validation data:\",len(validation_target))"
   ]
  },
  {
   "cell_type": "code",
   "execution_count": 9,
   "id": "9fcbaed6",
   "metadata": {},
   "outputs": [
    {
     "name": "stdout",
     "output_type": "stream",
     "text": [
      "Till now all OK...\n"
     ]
    }
   ],
   "source": [
    "from sklearn.preprocessing import MinMaxScaler\n",
    "\n",
    "for i in range(len(train)):\n",
    "    train[i] = train[i].reshape((len(train[i]), 1))\n",
    "    scaler = MinMaxScaler(feature_range=(0, 1))\n",
    "    scaler = scaler.fit(train[i])\n",
    "    train[i] = scaler.transform(train[i])\n",
    "#print(train[0])\n",
    "\n",
    "for i in range(len(test)):\n",
    "    test[i] = test[i].reshape((len(test[i]), 1))\n",
    "    scaler = MinMaxScaler(feature_range=(0, 1))\n",
    "    scaler = scaler.fit(test[i])\n",
    "    test[i] = scaler.transform(test[i])\n",
    "    \n",
    "for i in range(len(validation)):\n",
    "    validation[i] = validation[i].reshape((len(validation[i]), 1))\n",
    "    scaler = MinMaxScaler(feature_range=(0, 1))\n",
    "    scaler = scaler.fit(validation[i])\n",
    "    validation[i] = scaler.transform(validation[i])\n",
    "    \n",
    "print(\"Till now all OK...\")"
   ]
  },
  {
   "cell_type": "code",
   "execution_count": 10,
   "id": "9f2e88c2",
   "metadata": {},
   "outputs": [
    {
     "name": "stdout",
     "output_type": "stream",
     "text": [
      "Till now all OK...\n"
     ]
    }
   ],
   "source": [
    "train = np.asarray(train).astype(np.float32)\n",
    "validation = np.asarray(validation).astype(np.float32)\n",
    "test = np.asarray(test).astype(np.float32)\n",
    "\n",
    "train_target = np.asarray(train_target).astype(np.float32)\n",
    "validation_target = np.asarray(validation_target).astype(np.float32)\n",
    "test_traget = np.asarray(test_target).astype(np.float32)\n",
    "\n",
    "print(\"Till now all OK...\")"
   ]
  },
  {
   "cell_type": "code",
   "execution_count": 11,
   "id": "ed3f25dc",
   "metadata": {},
   "outputs": [
    {
     "name": "stdout",
     "output_type": "stream",
     "text": [
      "Till now all OK...\n"
     ]
    }
   ],
   "source": [
    "model = Sequential()\n",
    "model.add(GRU(32, dropout=0.2, recurrent_dropout=0.2, return_sequences=True, input_shape=(seq_len, 1)))\n",
    "model.add(GRU(16, dropout=0.2, recurrent_dropout=0.2, return_sequences=True))\n",
    "model.add(GRU(8, dropout=0.2, recurrent_dropout=0.2, return_sequences=False))\n",
    "model.add(Dense(1, activation='sigmoid'))\n",
    "\n",
    "print(\"Till now all OK...\")"
   ]
  },
  {
   "cell_type": "code",
   "execution_count": 12,
   "id": "5130015d",
   "metadata": {},
   "outputs": [
    {
     "name": "stdout",
     "output_type": "stream",
     "text": [
      "Model: \"sequential\"\n",
      "_________________________________________________________________\n",
      " Layer (type)                Output Shape              Param #   \n",
      "=================================================================\n",
      " gru (GRU)                   (None, 21000, 32)         3360      \n",
      "                                                                 \n",
      " gru_1 (GRU)                 (None, 21000, 16)         2400      \n",
      "                                                                 \n",
      " gru_2 (GRU)                 (None, 8)                 624       \n",
      "                                                                 \n",
      " dense (Dense)               (None, 1)                 9         \n",
      "                                                                 \n",
      "=================================================================\n",
      "Total params: 6393 (24.97 KB)\n",
      "Trainable params: 6393 (24.97 KB)\n",
      "Non-trainable params: 0 (0.00 Byte)\n",
      "_________________________________________________________________\n"
     ]
    }
   ],
   "source": [
    "model.summary()"
   ]
  },
  {
   "cell_type": "code",
   "execution_count": 13,
   "id": "7bc6ffc9",
   "metadata": {},
   "outputs": [
    {
     "name": "stdout",
     "output_type": "stream",
     "text": [
      "Epoch 1/2\n",
      "3/3 [==============================] - 322s 107s/step - loss: 0.6909 - accuracy: 0.6061 - val_loss: 0.7059 - val_accuracy: 0.2727\n",
      "Epoch 2/2\n",
      "3/3 [==============================] - 318s 108s/step - loss: 0.6891 - accuracy: 0.6061 - val_loss: 0.7164 - val_accuracy: 0.2727\n",
      "Training is complete.\n"
     ]
    }
   ],
   "source": [
    "from tensorflow.keras.optimizers import Adam\n",
    "adam = Adam(learning_rate=0.001) # callbacks=[chk],\n",
    "#chk = ModelCheckpoint(r'C:\\Users\\psbis\\OneDrive\\Desktop\\Research on Stress\\Stress 1 research\\depresjon\\best_model.pkl', \n",
    "                      #monitor='val_acc', save_best_only=True, mode='max', verbose=1)\n",
    "model.compile(loss='binary_crossentropy', optimizer=adam, metrics=['accuracy'])\n",
    "history = model.fit(train, train_target, epochs= 2, batch_size= 11, validation_data=(validation,validation_target))\n",
    "\n",
    "print(\"Training is complete.\")"
   ]
  },
  {
   "cell_type": "code",
   "execution_count": 14,
   "id": "6de1f198",
   "metadata": {},
   "outputs": [
    {
     "name": "stdout",
     "output_type": "stream",
     "text": [
      "1/1 [==============================] - 6s 6s/step\n",
      "<class 'numpy.ndarray'>\n",
      "<class 'numpy.ndarray'>\n",
      "[0 0 0 0 0 0 0 0 0 0 0]\n",
      "[0 1 0 0 0 0 0 0 0 1 0]\n"
     ]
    }
   ],
   "source": [
    "#loading the model and checking accuracy on the test data\n",
    "#model = load_model('best_model.pkl')\n",
    "\n",
    "from sklearn.metrics import accuracy_score\n",
    "#test_preds = model.predict_classes(test)\n",
    "\n",
    "#test_preds = model.predict(test)\n",
    "#classes_x=np.argmax(test_preds,axis=1)\n",
    "\n",
    "#correction\n",
    "\n",
    "test_preds = (model.predict(test) > 0.5).astype(\"int32\")\n",
    "\n",
    "test_preds = test_preds.flatten()\n",
    "print(type(test_preds.flatten()))\n",
    "print(type(test_target))\n",
    "\n",
    "print((test_preds.flatten()))\n",
    "print((test_target))\n",
    "\n",
    "#accuracy_score(test_target, test_preds, normalize=False)"
   ]
  },
  {
   "cell_type": "code",
   "execution_count": 15,
   "id": "cbe96f99",
   "metadata": {},
   "outputs": [
    {
     "name": "stdout",
     "output_type": "stream",
     "text": [
      "dict_keys(['loss', 'accuracy', 'val_loss', 'val_accuracy'])\n"
     ]
    },
    {
     "data": {
      "image/png": "[encoded data removed]",
      "text/plain": [
       "<Figure size 640x480 with 1 Axes>"
      ]
     },
     "metadata": {},
     "output_type": "display_data"
    },
    {
     "data": {
      "image/png": "[encoded data removed]",
      "text/plain": [
       "<Figure size 640x480 with 1 Axes>"
      ]
     },
     "metadata": {},
     "output_type": "display_data"
    }
   ],
   "source": [
    "# list all data in history\n",
    "print(history.history.keys())\n",
    "# summarize history for accuracy\n",
    "plt.plot(history.history['accuracy'], linestyle = '-', color=\"black\")\n",
    "plt.plot(history.history['val_accuracy'], color= 'gray')\n",
    "plt.title('Model accuracy')\n",
    "plt.ylabel('Accuracy')\n",
    "plt.xlabel('Epoch')\n",
    "plt.legend(['train', 'test'], loc='upper right')\n",
    "plt.show()\n",
    "# summarize history for loss\n",
    "plt.plot(history.history['loss'], color=\"black\")\n",
    "plt.plot(history.history['val_loss'],color= 'gray')\n",
    "plt.title('Model loss')\n",
    "plt.ylabel('Loss')\n",
    "plt.xlabel('Epoch')\n",
    "plt.legend(['train', 'test'], loc='upper right')\n",
    "plt.show()"
   ]
  }
 ],
 "metadata": {
  "kernelspec": {
   "display_name": "Python 3 (ipykernel)",
   "language": "python",
   "name": "python3"
  },
  "language_info": {
   "codemirror_mode": {
    "name": "ipython",
    "version": 3
   },
   "file_extension": ".py",
   "mimetype": "text/x-python",
   "name": "python",
   "nbconvert_exporter": "python",
   "pygments_lexer": "ipython3",
   "version": "3.11.3"
  }
 },
 "nbformat": 4,
 "nbformat_minor": 5
}
